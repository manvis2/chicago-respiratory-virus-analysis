{
 "cells": [
  {
   "cell_type": "markdown",
   "id": "98042cd3-17fb-4cac-bd6d-513380538e3a",
   "metadata": {},
   "source": [
    "Readme Section:\n",
    "\n",
    "1. Describe the project\n",
    "\n",
    "I am using a public health related dataset from the data.cityofchicago.org website. This dataset includes aggregated weekly respiratory virus lab data, which is activly used by the CDPH to monitor influenza, COVID-19, RSV, and other respiratory virus activity in Chicago. The dataset has information on pathogen activity for multiple years to the present, and was last updated on February 16, 2024.\n",
    "My project aims to analyze multiple aspects of this weekly updated dataset, and use this data to further understand respiratory virus activity trends in Chicago over the recent years. \n",
    "\n",
    "2. Explain in a few sentences why you selected this project, and if you learned what you had hoped to learn by doing this project\n",
    "\n",
    "I selected this project in the beginning, because I was very interested to explore the epidemiological aspect of disease tracking and disease tracing within public health. This was also one of my main areas of interest when applying to the MPH program at UChicago.\n",
    "Therefore for my final project in this class, I wanted to use a healthcare related dataset about infectious disease trends and further explore it or analyze it to reach some interesting findings/observations. I think I have learned a lot about analyzing health data trends through this project, however I want to keep further exploring and expanding my knowledge about disease tracking or tracing analysis. \n",
    "\n",
    "3. Describe the two major class themes selected (any concept from any lecture is fair game!), why you selected them, and how they are applied in the project. \n",
    "\n",
    "The first major concept or theme I have used throughout my project is the DataFrame, and creating a DataFrame by importing a dataset. A DataFrame is a 2-D labeled data structure with different columns of data. This also required me to use Pandas which is a python library for data analysis. I selected this concept because it was essential for my project, as I wanted to do some sort of data analysis on my imported csv dataset. I applied Pandas to my project, as I used it to help change the size of my datasets and then also helped slice my dataset.\n",
    "\n",
    "The second major theme I used in my project was data visualization. Visualization helps simplify making conclusions from the data because graphing a dataset lets you quickly support the conclusions. I used Matplotlib in my project to do all the visualizations and make all the graphs. Matplotlib is a python library that provides a lot of control over every aspect of a plot. I used it in my project for creating line plots, box plots, and bar charts. I was able to customize my graphs easily and create complex visualizations that gave me insight into the data.\n",
    "\n",
    "4. What you would do differently if you were to have an opportunity to redo this project and why.\n",
    "\n",
    "If I had the opportunity to redo this project, I would want to choose a dataset that includes chicago zip codes/geographic location information about the viruses along with the Infectious disease case rates. \n",
    "And then I would want to learn how to use that information to do some sort of geospatial analysis in python. I think it would be very cool to make some kind of heatmaps or plot the spatial distribution of virus cases across different geographic regions of Chicago.\n",
    "\n",
    "5. How to run your project. If your project requires a dataset, please include it if possible.\n",
    "\n",
    "The dataset for this project is available on the City of Chicago Data Portal \n",
    "https://data.cityofchicago.org/Health-Human-Services/Influenza-COVID-19-RSV-and-Other-Respiratory-Virus/qgdz-d5m4/about_data\n",
    "However, I have also attached my dataset to canvas because I had renamed it.\n",
    "\n",
    "6. Was the project challenging in the way you expected? What did you overcome?\n",
    "\n",
    "One of the primary challenges I faced was getting stuck on small errors and not knowing how to troubleshoot the problems. Since I have never used python before and this class was my first introduction to python, I had no prior experience with troubleshooting issues in Python. It was time consuming, but I think researching and consulting relevant websites and tutorials helped me overcome this. \n",
    "\n",
    "\n",
    "7. Cited sources, appropriate acknowledgements. Explain how each source applied to your project. (5 points)\n",
    "\n",
    "I used this source for guidance when importing my csv dataset into the dataframe.\n",
    "https://www.stratascratch.com/blog/how-to-import-pandas-as-pd-in-python/\n",
    "\n",
    "I used this source for guidance when looking into how to do statistical analysis in python in order to obtain the mean, min, max, and std.\n",
    "https://pandas.pydata.org/docs/getting_started/intro_tutorials/06_calculate_statistics.html\n",
    "\n",
    "I used this source for guidance when looking into how to obtain the correlation coefficient in python because I wanted to make a correlation coefficient matrix to analyze the 3 variable I was working with.\n",
    "https://pandas.pydata.org/docs/reference/api/pandas.DataFrame.corr.html\n",
    "\n",
    "I used this source for guidance because I did not know how to limit my Positivity Rate percentage value to 2 decimal places and display it with a % sign.\n",
    "https://stackoverflow.com/questions/455612/limiting-floats-to-two-decimal-points\n",
    "\n",
    "I used this source for guidance when plotting my bar plot since I have not created this type of graph before on python.\n",
    "https://www.geeksforgeeks.org/bar-plot-in-matplotlib/\n",
    "\n",
    "I used this source for guidance because I did not know how to remove the default title added by pandas on my boxplot.\n",
    "https://stackoverflow.com/questions/23507229/set-no-title-for-pandas-boxplot-groupby \n",
    "\n",
    "8. If you attempted the extra credit, explain how you successfully met the criteria"
   ]
  },
  {
   "cell_type": "code",
   "execution_count": null,
   "id": "045723e1-7468-4769-940a-b35b3e6bbc9c",
   "metadata": {
    "tags": []
   },
   "outputs": [],
   "source": [
    "#Final Project:\n",
    "\n",
    "#First importing the dataset (which I have attached on canvas when submittng the project)\n",
    "import pandas as pd\n",
    "import numpy as np\n",
    "\n",
    "data = pd.read_csv('Infectious_Disease_Surveillance_Data.csv')\n",
    "data.head()"
   ]
  },
  {
   "cell_type": "code",
   "execution_count": null,
   "id": "920c1ac4-bf2c-49cd-a899-c4b814e9d8ed",
   "metadata": {
    "tags": []
   },
   "outputs": [],
   "source": [
    "# Saving only the first 40 rows of the data \n",
    "# This reduces the dataset to only show the weekly disease surveillance data for the first five weeks of 2024 \n",
    "\n",
    "df2024 = data[:40]\n",
    "df2024"
   ]
  },
  {
   "cell_type": "code",
   "execution_count": null,
   "id": "0a655ab8-12d1-4dda-bb48-8364e7da154d",
   "metadata": {},
   "outputs": [],
   "source": [
    "#Saving the dataset to only show the weekly disease surveillance data for the entire year of 2023 \n",
    "\n",
    "df2023 = data[40:456]\n",
    "df2023"
   ]
  },
  {
   "cell_type": "code",
   "execution_count": null,
   "id": "79f29dde-6144-4d63-a575-4f19e9dae260",
   "metadata": {
    "tags": []
   },
   "outputs": [],
   "source": [
    "#Extracting relevant columns from the 2 smaller datasets to be able to calculate summary statistics (mean, min, max, std)\n",
    "#lab_tot_tested: Total number of specimens tested for the specified pathogen as reported by participating laboratories\n",
    "#lab_tot_positive: Total number of specimens that were positive for the specified pathogen as reported by participating laboratories\n",
    "#lab_pct_positive: Percentage of specimens that were positive for the specified pathogen as reported by participating laboratories\n",
    "\n",
    "relevant_columns = ['lab_tot_tested', 'lab_tot_positive', 'lab_pct_positive']\n",
    "relevant_data2024 = df2024[relevant_columns]\n",
    "relevant_data2023 = df2023[relevant_columns]\n",
    "\n",
    "summary_stats1 = relevant_data2024.describe()\n",
    "summary_stats2 = relevant_data2023.describe()\n",
    "\n",
    "print(\"Summary Statistics for Chicago Infectious Disease Data (Jan1-Present):\")\n",
    "print(summary_stats1)\n",
    "\n",
    "print(\"Summary Statistics for Chicago Infectious Disease Data (entire year of 2023):\")\n",
    "print(summary_stats2)"
   ]
  },
  {
   "cell_type": "code",
   "execution_count": null,
   "id": "0463f95c-ae9b-4a14-b73a-15503732df97",
   "metadata": {
    "tags": []
   },
   "outputs": [],
   "source": [
    "#Want to further investigate if there are any correlations between the variables: number of specimens tested, number of positive cases, and the percentage of specimens positive. \n",
    "#Using the relevant columns from the 2 smaller datasets, I want to calculate the correlation coefficients\n",
    "\n",
    "correlation_coeff1 = relevant_data2024.corr()\n",
    "correlation_coeff2 = relevant_data2023.corr()\n",
    "\n",
    "print(\"Correlation Matrix for Chicago Infectious Disease Data (Jan1-Present):\")\n",
    "print(correlation_coeff1)\n",
    "\n",
    "print(\"Correlation Matrix for Chicago Infectious Disease Data (entire year of 2023):\")\n",
    "print(correlation_coeff2)"
   ]
  },
  {
   "cell_type": "code",
   "execution_count": null,
   "id": "af76a42e-a41a-4760-8590-81a9910af77d",
   "metadata": {
    "tags": []
   },
   "outputs": [],
   "source": [
    "#Only focusing on 2 specific pathogens of interest- influenza and COVID-19\n",
    "#I want to now analyze the pathogen's prevalence and positivity rates in both 2023 and in 2024\n",
    "#First lets do 2024\n",
    "\n",
    "pathogens_of_interest = ['Influenza', 'SARS-CoV-2', 'Seasonal Coronaviruses']\n",
    "\n",
    "filtered_data_2024 = df2024[df2024['pathogen'].isin(pathogens_of_interest)]\n",
    "filtered_data_2023 = df2023[df2023['pathogen'].isin(pathogens_of_interest)]\n",
    "\n",
    "\n",
    "# Calculate prevalence statistics for each pathogen\n",
    "    # Prevalence (total positive cases)\n",
    "\n",
    "print(\"Specific pathogens of interest- Influenza and COVID-19. The pathogen's prevalence and positivity rates in 2024:\")\n",
    "\n",
    "for pathogen in pathogens_of_interest:\n",
    "    pathogen_data_2024 = filtered_data_2024[filtered_data_2024['pathogen'] == pathogen]\n",
    "\n",
    "    total_positive_cases2024 = pathogen_data_2024['lab_tot_positive'].sum()\n",
    "    print(f\"{pathogen} Total Positive Cases: {total_positive_cases2024}\")\n",
    "    \n",
    "    total_specimens_tested2024 = pathogen_data_2024['lab_tot_tested'].sum()\n",
    "\n",
    "# Positivity rate is the percentage of positive cases (Total positive cases/Total specimens tested)\n",
    "    positivity_rate2024 = (total_positive_cases2024 / total_specimens_tested2024) * 100\n",
    "    print(f\"{pathogen} Positivity Rate: {positivity_rate2024:.2f}%\\n\")"
   ]
  },
  {
   "cell_type": "code",
   "execution_count": null,
   "id": "1a3dc7db-11bf-42c5-8edd-9aca535815f7",
   "metadata": {
    "tags": []
   },
   "outputs": [],
   "source": [
    "#Continued calculations for the year 2023\n",
    "\n",
    "print(\"Specific pathogens of interest- Influenza and COVID-19. The pathogen's prevalence and positivity rates in 2023:\")\n",
    "for pathogen in pathogens_of_interest:\n",
    "    pathogen_data_2023 = filtered_data_2023[filtered_data_2023['pathogen'] == pathogen]\n",
    "    \n",
    "    total_positive_cases2023 = pathogen_data_2023['lab_tot_positive'].sum()\n",
    "    print(f\"{pathogen} Total Positive Cases: {total_positive_cases2023}\")\n",
    "    \n",
    "    total_specimens_tested2023 = pathogen_data_2023['lab_tot_tested'].sum()\n",
    "\n",
    "# Positivity rate is the percentage of positive cases (Total positive cases/Total specimens tested)\n",
    "    positivity_rate2023 = (total_positive_cases2023 / total_specimens_tested2023) * 100\n",
    "    print(f\"{pathogen} Positivity Rate: {positivity_rate2023:.2f}%\\n\")"
   ]
  },
  {
   "cell_type": "code",
   "execution_count": null,
   "id": "425b500a-33f5-4dda-b686-9549bebd0017",
   "metadata": {
    "tags": []
   },
   "outputs": [],
   "source": [
    "import matplotlib.pyplot as plt\n",
    "%matplotlib inline\n",
    "import seaborn as sns\n",
    "\n",
    "#Visualizing and making a line plot for the weekly positive cases of influenza and covid in 2024 over the past 5 weeks\n",
    "#This type of plot could help visualize and predict the future positivity trends for the 2 pathogens\n",
    "\n",
    "influenza_data2024 = df2024[df2024['pathogen'] == 'Influenza']\n",
    "covid_data2024 = df2024[df2024['pathogen'] == 'SARS-CoV-2']\n",
    "\n",
    "# Grouping the data by week and calculating total positive cases for each pathogen\n",
    "# mmwr_week: A weekly counting system within a calendar year standardized by the U.S. CDC\n",
    "\n",
    "influenza_weekly_cases24 = influenza_data2024.groupby('mmwr_week')['lab_tot_positive'].sum()\n",
    "covid_weekly_cases24 = covid_data2024.groupby('mmwr_week')['lab_tot_positive'].sum()\n",
    "\n",
    "# Plotting the weekly positive cases for both pathogens\n",
    "plt.figure(figsize=(10, 6))\n",
    "plt.plot(influenza_weekly_cases24.index, influenza_weekly_cases24.values, label='Influenza')\n",
    "plt.plot(covid_weekly_cases24.index, covid_weekly_cases24.values, label='COVID-19')\n",
    "\n",
    "plt.xlabel('MMWR Week')\n",
    "plt.ylabel('Weekly Positive Cases')\n",
    "plt.title('Weekly Positive Cases of Influenza and COVID-19 this year 2024')\n",
    "plt.legend()\n",
    "\n",
    "plt.grid(True)\n",
    "plt.show()"
   ]
  },
  {
   "cell_type": "code",
   "execution_count": null,
   "id": "092c1ec0-4af2-42ab-be0b-7825859c8efe",
   "metadata": {
    "tags": []
   },
   "outputs": [],
   "source": [
    "#Now lets visualize and make a line plot for the weekly positive cases of influenza and covid over the last year of 2023\n",
    "#This type of plot will be interesting for visualizing the change in positivity trends for the 2 pathogens over the entire last year (52 weeks)\n",
    "\n",
    "influenza_data2023 = df2023[df2023['pathogen'] == 'Influenza']\n",
    "covid_data2023 = df2023[df2023['pathogen'] == 'SARS-CoV-2']\n",
    "\n",
    "influenza_weekly_cases23 = influenza_data2023.groupby('mmwr_week')['lab_tot_positive'].sum()\n",
    "covid_weekly_cases23 = covid_data2023.groupby('mmwr_week')['lab_tot_positive'].sum()\n",
    "\n",
    "plt.figure(figsize=(10, 6))\n",
    "plt.plot(influenza_weekly_cases23.index, influenza_weekly_cases23.values, label='Influenza')\n",
    "plt.plot(covid_weekly_cases23.index, covid_weekly_cases23.values, label='COVID-19')\n",
    "\n",
    "plt.xlabel('MMWR Week')\n",
    "plt.ylabel('Weekly Positive Cases')\n",
    "plt.title('Weekly Positive Cases of Influenza and COVID-19 over the year 2023')\n",
    "plt.legend()\n",
    "\n",
    "plt.grid(True)\n",
    "plt.show()"
   ]
  },
  {
   "cell_type": "code",
   "execution_count": null,
   "id": "9f492544-7d4c-463c-a860-375c9330abc7",
   "metadata": {
    "tags": []
   },
   "outputs": [],
   "source": [
    "#I want to create a bar plot showing the cumulative positive cases for ALL pathogens that exist over the 2023-2024 season. \n",
    "#This will require using the season data, and can provide an overview of the total positive cases throughout the season.\n",
    "\n",
    "#First filter the data by the specific season 2023-2024\n",
    "#season: Annually recurring reporting period for which estimates are calculated, beginning during MMWR week 40 and ending with week 39 of the following year\n",
    "\n",
    "season_data = data[(data['mmwr_week'] >= 202340) | (data['mmwr_week'] >= 202405)]\n",
    "season_data"
   ]
  },
  {
   "cell_type": "code",
   "execution_count": null,
   "id": "f0a827e4-4647-4a08-bbf9-7f69e25a1fb9",
   "metadata": {
    "tags": []
   },
   "outputs": [],
   "source": [
    "#Continuing to make the Bar Plot\n",
    "#Now group the data by pathogens and find total cumulative positive cases for each pathogen\n",
    "\n",
    "cumulative_cases = season_data.groupby('pathogen')['lab_tot_positive_cumulative'].max()\n",
    "\n",
    "plt.figure(figsize=(10, 6))\n",
    "cumulative_cases.plot.bar (color='skyblue')\n",
    "plt.xlabel('Pathogen Type')\n",
    "plt.ylabel('Cumulative Positive Cases')\n",
    "plt.title('Cumulative Positive Cases for Each Pathogen over the season 2023-2024')\n",
    "plt.xticks(rotation=45, ha='right')\n",
    "plt.show()"
   ]
  },
  {
   "cell_type": "code",
   "execution_count": null,
   "id": "22ff042c-ecb0-4480-8dc1-67c289d052bc",
   "metadata": {
    "tags": []
   },
   "outputs": [],
   "source": [
    "#Lastly I want to create a box plot showing the distribution of positivity rates for ALL pathogens that exist over the 2023-2024 season.\n",
    "\n",
    "boxplot_data = season_data[['pathogen', 'lab_pct_positive']]\n",
    "\n",
    "# Making a box plot showing the distribution of positivity rates for each pathogen\n",
    "plt.figure(figsize=(10, 6))\n",
    "boxplot = boxplot_data.boxplot(by='pathogen', column='lab_pct_positive', figsize=(10, 6))\n",
    "\n",
    "plt.xlabel('Pathogen Type')\n",
    "plt.ylabel('Positivity Rate (%)')\n",
    "plt.title('Distribution of Positivity Rates for Each Pathogen over the season 2023-2024')\n",
    "\n",
    "plt.suptitle('')\n",
    "plt.xticks(rotation=45, ha='right')\n",
    "plt.show()"
   ]
  },
  {
   "cell_type": "code",
   "execution_count": null,
   "id": "82bc7019-9a31-460e-b64a-5dc8cb665121",
   "metadata": {},
   "outputs": [],
   "source": []
  }
 ],
 "metadata": {
  "kernelspec": {
   "display_name": "Python 3 (ipykernel)",
   "language": "python",
   "name": "python3"
  },
  "language_info": {
   "codemirror_mode": {
    "name": "ipython",
    "version": 3
   },
   "file_extension": ".py",
   "mimetype": "text/x-python",
   "name": "python",
   "nbconvert_exporter": "python",
   "pygments_lexer": "ipython3",
   "version": "3.11.5"
  }
 },
 "nbformat": 4,
 "nbformat_minor": 5
}
